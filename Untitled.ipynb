{
 "cells": [
  {
   "cell_type": "markdown",
   "id": "4d88ec39-46d1-499b-bed6-d1a06032670b",
   "metadata": {},
   "source": [
    "This is markdown"
   ]
  },
  {
   "cell_type": "code",
   "execution_count": 2,
   "id": "c41f928a-24c2-4dbd-abe1-e99c616dc430",
   "metadata": {},
   "outputs": [
    {
     "data": {
      "text/plain": [
       "4"
      ]
     },
     "execution_count": 2,
     "metadata": {},
     "output_type": "execute_result"
    }
   ],
   "source": [
    "2+2"
   ]
  },
  {
   "cell_type": "code",
   "execution_count": 4,
   "id": "6388257e-df20-46e0-ba3c-962517ad7460",
   "metadata": {},
   "outputs": [],
   "source": [
    "from numpy import *"
   ]
  },
  {
   "cell_type": "markdown",
   "id": "eb7d530e-98cb-4563-87cc-cfdadd883d0d",
   "metadata": {},
   "source": [
    "Here is how I calculate `sin` of array a:"
   ]
  },
  {
   "cell_type": "code",
   "execution_count": 5,
   "id": "3d4d7e5a-67c0-43ab-99e0-45a613b5738c",
   "metadata": {},
   "outputs": [
    {
     "data": {
      "text/plain": [
       "array([0.84147098, 1.        ])"
      ]
     },
     "execution_count": 5,
     "metadata": {},
     "output_type": "execute_result"
    }
   ],
   "source": [
    "a = array([1.0, pi/2])\n",
    "sin(a)"
   ]
  },
  {
   "cell_type": "code",
   "execution_count": null,
   "id": "c188fa59-b832-4c7b-aa8a-7cb0ac4c9bde",
   "metadata": {},
   "outputs": [],
   "source": []
  }
 ],
 "metadata": {
  "kernelspec": {
   "display_name": "Python 3 (ipykernel)",
   "language": "python",
   "name": "python3"
  },
  "language_info": {
   "codemirror_mode": {
    "name": "ipython",
    "version": 3
   },
   "file_extension": ".py",
   "mimetype": "text/x-python",
   "name": "python",
   "nbconvert_exporter": "python",
   "pygments_lexer": "ipython3",
   "version": "3.10.10"
  }
 },
 "nbformat": 4,
 "nbformat_minor": 5
}
